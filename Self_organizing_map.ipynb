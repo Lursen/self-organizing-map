{
  "nbformat": 4,
  "nbformat_minor": 0,
  "metadata": {
    "colab": {
      "name": "Self_organizing_map.ipynb",
      "provenance": [],
      "collapsed_sections": [],
      "authorship_tag": "ABX9TyNUtur9Lozt9s9ziVvNQz9j",
      "include_colab_link": true
    },
    "kernelspec": {
      "name": "python3",
      "display_name": "Python 3"
    },
    "language_info": {
      "name": "python"
    }
  },
  "cells": [
    {
      "cell_type": "markdown",
      "metadata": {
        "id": "view-in-github",
        "colab_type": "text"
      },
      "source": [
        "<a href=\"https://colab.research.google.com/github/Lursen/self-organizing-map/blob/main/Self_organizing_map.ipynb\" target=\"_parent\"><img src=\"https://colab.research.google.com/assets/colab-badge.svg\" alt=\"Open In Colab\"/></a>"
      ]
    },
    {
      "cell_type": "markdown",
      "metadata": {
        "id": "JeIYIdCj8oQD"
      },
      "source": [
        "All attributes except the identification number are used as they are given.\n",
        "The only transformations are normalization to 0...1 for the continuous\n",
        "input attributes and 1-of-6 encoding for the output attribute.\n",
        "\n",
        "Attribute Information (no missing values):\n",
        "0. Id number: 1 to 214\n",
        "  0\n",
        "1. RI: refractive index  1.51115...1.53393\n",
        "  1\n",
        "2. Na: Sodium  10.73...17.38 \n",
        "  1\n",
        "3. Mg: Magnesium  0.33...4.49\n",
        "  1\n",
        "4. Al: Aluminum  0.29...3.5\n",
        "  1\n",
        "5. Si: Silicon  69.81...75.41\n",
        "  1\n",
        "6. K: Potassium  0.02...6.21\n",
        "  1\n",
        "7. Ca: Calcium  5.43...16.19\n",
        "  1\n",
        "8. Ba: Barium  0.06...3.15\n",
        "  1\n",
        "9. Fe: Iron  0.01...0.51\n",
        "  1\n",
        "---------\n",
        "  9 inputs\n",
        "\n",
        "10. Type of glass: 1, 2, 3, 5, 6, or 7   (6 classes)\n",
        "  6\n",
        "---------\n",
        "  6 outputs\n"
      ]
    },
    {
      "cell_type": "code",
      "metadata": {
        "id": "H0e8HHK-4gms"
      },
      "source": [
        "bool_in=0\n",
        "real_in=9\n",
        "bool_out=6\n",
        "real_out=0\n",
        "training_examples=107\n",
        "validation_examples=54\n",
        "test_examples=53"
      ],
      "execution_count": null,
      "outputs": []
    },
    {
      "cell_type": "code",
      "metadata": {
        "id": "SwCXbpcl43IY"
      },
      "source": [
        "import numpy as np\n",
        "import pandas as pd\n",
        "from sklearn.model_selection import train_test_split"
      ],
      "execution_count": null,
      "outputs": []
    },
    {
      "cell_type": "code",
      "metadata": {
        "id": "nNhToVrk4jfV"
      },
      "source": [
        "data = np.loadtxt('glass2.dt')\n",
        "X = data[:, 0:9]\n",
        "Y = data[:, 9:15]\n",
        "\n",
        "y = []\n",
        "for i in Y:\n",
        "  y.append(list(i).index(1))\n",
        "\n",
        "y = np.asarray(y)\n",
        "X_train, X_test, y_train, y_test = train_test_split(X, y, train_size=0.99, random_state=42)\n",
        "\n",
        "test_data =  np.insert(X_train, 9, y_train, axis=1)"
      ],
      "execution_count": null,
      "outputs": []
    },
    {
      "cell_type": "markdown",
      "source": [
        "Iteration algorithm "
      ],
      "metadata": {
        "id": "GbtqkiD8oFcI"
      }
    },
    {
      "cell_type": "code",
      "metadata": {
        "id": "AKOnAjps8wWl"
      },
      "source": [
        "def find_BMU(SOM,x):\n",
        "    distSq = (np.square(SOM - x)).sum(axis=2)\n",
        "    err = np.min(distSq, axis=None)\n",
        "    g,h = np.unravel_index(np.argmin(distSq, axis=None), distSq.shape)\n",
        "    return g,h,err\n",
        "    \n",
        "def update_weights(SOM, train_ex, learn_rate, radius_sq, \n",
        "                   BMU_coord, step=3):\n",
        "    g, h = BMU_coord\n",
        "    #if radius is close to zero then only BMU is changed\n",
        "    if radius_sq < 1e-3:\n",
        "        SOM[g,h,:] += learn_rate * (train_ex - SOM[g,h,:])\n",
        "        return SOM\n",
        "    # Change all cells in a small neighborhood of BMU\n",
        "    for i in range(max(0, g-step), min(SOM.shape[0], g+step)):\n",
        "        for j in range(max(0, h-step), min(SOM.shape[1], h+step)):\n",
        "            dist_sq = np.square(i - g) + np.square(j - h)\n",
        "            dist_func = np.exp(-(dist_sq*dist_sq)/ (2 *radius_sq * radius_sq))\n",
        "            SOM[i,j,:] += learn_rate * dist_func * (train_ex - SOM[i,j,:])   \n",
        "    return SOM    \n",
        "\n",
        "def train_SOM(SOM, train_data, learn_rate = .1, radius_sq = 1, \n",
        "              lr_decay = .1, radius_decay = .1, epochs = 100):    \n",
        "  learn_rate_0 = learn_rate\n",
        "  radius_0 = radius_sq\n",
        "  error = 1\n",
        "  epoch = 0\n",
        "  while ( (error > 0.03) & (epoch < epochs)):\n",
        "      errors = []\n",
        "      rand.shuffle(train_data)      \n",
        "      for train_ex in train_data:\n",
        "          g, h, err = find_BMU(SOM, train_ex)\n",
        "          errors.append(err)\n",
        "          SOM = update_weights(SOM, train_ex, \n",
        "                                learn_rate, radius_sq, (g,h))\n",
        "      # Update learning rate and radius\n",
        "      learn_rate = learn_rate_0 * np.exp(-epoch * lr_decay)\n",
        "      radius_sq = radius_0 * np.exp(-epoch * radius_decay) \n",
        "      epoch +=1        \n",
        "      error = np.mean(np.asarray(errors))  \n",
        "      #print(error) \n",
        "  return SOM, epoch, error\n",
        "\n",
        "def SOM_error(SOM, test_data):\n",
        "  winners = []\n",
        "  err = 0\n",
        "  for test_ex in test_data:\n",
        "    g,h, _ = find_BMU(SOM, test_ex)\n",
        "    winners.append([g, h, test_ex[-1]])\n",
        "    err = err + np.sqrt(np.sum(np.square(SOM[(g,h)] - test_ex)))\n",
        "  return err, winners"
      ],
      "execution_count": null,
      "outputs": []
    },
    {
      "cell_type": "code",
      "source": [
        "import time\n",
        "# Dimensions of the SOM grid\n",
        "m = 4\n",
        "n = 4\n",
        "input_n = 9\n",
        "# Number of training examples\n",
        "n_x = len(X_train)\n",
        "rand = np.random.RandomState(0)\n",
        "train_time = []\n",
        "for i in range(10):\n",
        "  # Initialize the SOM randomly\n",
        "  SOM = np.random.ranf((m, n, input_n)).astype(float)\n",
        "  # training\n",
        "  max_epochs = 100\n",
        "  time_start = time.time()\n",
        "  SOM, epochs, _ = train_SOM(SOM, X_train, epochs=max_epochs)\n",
        "  train_time.append(time.time() - time_start)\n",
        "  err, winners = SOM_error(SOM, X_train)\n",
        "  print(epochs, err)\n",
        "print('mean time=', np.mean(np.asarray(train_time)))\n",
        "print('std =', np.std(np.asarray(train_time)))"
      ],
      "metadata": {
        "colab": {
          "base_uri": "https://localhost:8080/"
        },
        "id": "ewoJLiIozdV1",
        "outputId": "e61f9603-2ea3-40ad-deab-2a4be03d84eb"
      },
      "execution_count": null,
      "outputs": [
        {
          "output_type": "stream",
          "name": "stdout",
          "text": [
            "100 39.662849798005176\n",
            "100 38.64539410455198\n",
            "100 39.678346148646575\n",
            "100 39.988260253052566\n",
            "100 37.246899530327205\n",
            "100 39.03273523114747\n",
            "100 37.82331829303481\n",
            "100 39.47417703669956\n",
            "100 38.71690689634961\n",
            "100 38.749687070147665\n",
            "mean time= 3.6894821882247926\n",
            "std = 0.13717785769261587\n"
          ]
        }
      ]
    },
    {
      "cell_type": "markdown",
      "source": [
        "Batch algorithm"
      ],
      "metadata": {
        "id": "Ce9eE1u615xT"
      }
    },
    {
      "cell_type": "code",
      "source": [
        "def train_batch_SOM(SOM, train_data, radius_sq = 1, \n",
        "                    lr_decay = .1, radius_decay = .1, epochs = 10):    \n",
        "  radius_sq = (SOM.shape[0] + SOM.shape[1]) // 2\n",
        "  step = 3\n",
        "  error = 1\n",
        "  epoch = 0\n",
        "  while ((error > 0.035) & (epoch < epochs)):\n",
        "    batch_BMU = []\n",
        "    errors = []\n",
        "    winners = np.zeros((SOM.shape[0], SOM.shape[1], SOM.shape[2]))\n",
        "    bmus_count = np.zeros((SOM.shape[0], SOM.shape[1], 1))\n",
        "    for i in range(len(train_data)):\n",
        "        g, h, err = find_BMU(SOM, train_data[i])\n",
        "        winners[g, h] += train_data[i]\n",
        "        bmus_count[g, h] += 1\n",
        "        batch_BMU.append((g,h))\n",
        "        errors.append(err)\n",
        "\n",
        "    unique_BMU = np.unique(batch_BMU, axis=0)\n",
        "    unique_BMU = tuple([tuple(row) for row in unique_BMU])\n",
        "    avg = np.zeros_like(winners)\n",
        "    for i in range(winners.shape[0]):\n",
        "      for j in range(winners.shape[1]):\n",
        "        if np.sum(winners[i][j]) != 0:\n",
        "          avg[i,j] = winners[i][j] / bmus_count[i][j]\n",
        "  \n",
        "    # Update weights\n",
        "    for BMU in unique_BMU:\n",
        "      g,h = BMU\n",
        "      num = 0\n",
        "      denum = 0\n",
        "      for i in range(max(0, g-step), min(SOM.shape[0], g+step)):\n",
        "        for j in range(max(0, h-step), min(SOM.shape[1], h+step)):\n",
        "          dist_sq = np.square(i - g) + np.square(j - h)\n",
        "          dist_func = np.exp(-np.square(dist_sq) / (2 * np.square(radius_sq)))\n",
        "          num += dist_func * avg[i,j,:] * bmus_count[i,j]\n",
        "          denum += dist_func * bmus_count[i,j] \n",
        "        SOM[g,h,:] = num / denum\n",
        "        \n",
        "    radius_sq = radius_sq * np.exp(-epoch /100)\n",
        "    error = np.mean(np.asarray(errors))  \n",
        "    epoch += 1\n",
        "\n",
        "  return SOM, epoch, error\n"
      ],
      "metadata": {
        "id": "7062ML1B3Yg6"
      },
      "execution_count": null,
      "outputs": []
    },
    {
      "cell_type": "code",
      "source": [
        "import time\n",
        "# Dimensions of the SOM grid\n",
        "m = 8\n",
        "n = 8\n",
        "input_n = 9\n",
        "# Number of training examples\n",
        "n_x = len(X_train)\n",
        "rand = np.random.RandomState(0)\n",
        "train_time = []\n",
        "for i in range(10):\n",
        "  # Initialize the SOM randomly\n",
        "  SOM = np.random.ranf((m, n, input_n)).astype(float)\n",
        "  # training\n",
        "  max_epochs = 30\n",
        "  time_start = time.time()\n",
        "  SOM, epochs, _ = train_batch_SOM(SOM, X_train, epochs=max_epochs)\n",
        "  train_time.append(time.time() - time_start)\n",
        "  err, winners = SOM_error(SOM, X_train)\n",
        "  print(epochs, err)\n",
        "print('mean time=', np.mean(np.asarray(train_time)))\n",
        "print('std =', np.std(np.asarray(train_time)))"
      ],
      "metadata": {
        "id": "uKXTwjWoratS",
        "colab": {
          "base_uri": "https://localhost:8080/"
        },
        "outputId": "d42e9e71-997c-49a1-d9f8-1293dd475201"
      },
      "execution_count": null,
      "outputs": [
        {
          "output_type": "stream",
          "name": "stderr",
          "text": [
            "/usr/local/lib/python3.7/dist-packages/ipykernel_launcher.py:39: RuntimeWarning: invalid value encountered in true_divide\n"
          ]
        },
        {
          "output_type": "stream",
          "name": "stdout",
          "text": [
            "25 28.640789537331052\n",
            "26 28.938672155437413\n",
            "26 28.31082870415984\n",
            "30 30.264949393689786\n",
            "30 30.960757178870846\n",
            "28 29.498990796636146\n",
            "29 30.464814415444863\n",
            "27 28.891546386833664\n",
            "27 26.60895935412031\n",
            "28 27.34572587323391\n",
            "mean time= 0.6566708803176879\n",
            "std = 0.035862402733561886\n"
          ]
        }
      ]
    },
    {
      "cell_type": "markdown",
      "source": [
        "Removing Dead Neurons"
      ],
      "metadata": {
        "id": "QP2mN-PZL_u6"
      }
    },
    {
      "cell_type": "code",
      "source": [
        "# Dimensions of the SOM grid\n",
        "m = 6\n",
        "n = 6\n",
        "input_n = 9\n",
        "# Number of training examples\n",
        "n_x = len(X_train)\n",
        "rand = np.random.RandomState(0)\n",
        "# Initialize the SOM randomly\n",
        "SOM = np.random.ranf((m, n, input_n)).astype(float)\n",
        "# training\n",
        "max_epochs = 50\n",
        "SOM, epochs, _ = train_SOM(SOM, X_train, epochs=max_epochs)\n",
        "err, winners = SOM_error(SOM, X_train)\n",
        "print(epochs, err)"
      ],
      "metadata": {
        "colab": {
          "base_uri": "https://localhost:8080/"
        },
        "id": "0nX9mvBGL-wi",
        "outputId": "b3270f78-09a6-4fa0-b13c-024b09e8fb3a"
      },
      "execution_count": null,
      "outputs": [
        {
          "output_type": "stream",
          "name": "stdout",
          "text": [
            "50 29.826215027893063\n"
          ]
        }
      ]
    },
    {
      "cell_type": "code",
      "source": [
        "def SOM_labels(SOM, test_data):\n",
        "  winners = np.empty((SOM.shape[0], SOM.shape[1]), dtype=object)\n",
        "  for i in np.ndindex(winners.shape): winners[i] = []\n",
        "\n",
        "  win_count = np.zeros((m,n))\n",
        "  err = 0\n",
        "  for test_ex in test_data:\n",
        "    g,h, _ = find_BMU(SOM, test_ex[0:9])\n",
        "    winners[g][h].append (test_ex[-1])\n",
        "    win_count[int(g),int(h)] +=1\n",
        "    err = err + np.sqrt(np.sum(np.square(SOM[(g,h)] - test_ex[0:9])))\n",
        "  return win_count, winners"
      ],
      "metadata": {
        "id": "2sdgXSQpSTRM"
      },
      "execution_count": null,
      "outputs": []
    },
    {
      "cell_type": "code",
      "source": [
        "win_count = np.zeros((m,n))\n",
        "for test_ex in test_data:\n",
        "  g,h, _ = find_BMU(SOM, test_ex[0:9])\n",
        "  win_count[g,h] += 1 \n",
        "\n",
        "new_SOM = []\n",
        "for i in range(m):\n",
        "  for j in range(n):\n",
        "    if (win_count[i,j] < 3):\n",
        "      SOM[i,j] = np.full(9,1000)\n",
        "\n",
        "count, winners = SOM_labels(SOM,test_data)"
      ],
      "metadata": {
        "id": "PRYW-HqsvILs"
      },
      "execution_count": null,
      "outputs": []
    },
    {
      "cell_type": "code",
      "source": [
        "count"
      ],
      "metadata": {
        "colab": {
          "base_uri": "https://localhost:8080/"
        },
        "id": "zWUCP5_UZ1Qg",
        "outputId": "e561b34b-6c4b-4403-ff14-b3cbc72d3521"
      },
      "execution_count": null,
      "outputs": [
        {
          "output_type": "execute_result",
          "data": {
            "text/plain": [
              "array([[ 8., 13.,  9.,  6.,  0.,  5.],\n",
              "       [ 6.,  7.,  3.,  6.,  3.,  6.],\n",
              "       [ 4., 23., 16.,  5.,  5.,  5.],\n",
              "       [ 3., 15., 11.,  0.,  0., 14.],\n",
              "       [12.,  9.,  0.,  0.,  0., 10.],\n",
              "       [ 7.,  0.,  0.,  0.,  0.,  0.]])"
            ]
          },
          "metadata": {},
          "execution_count": 21
        }
      ]
    },
    {
      "cell_type": "markdown",
      "source": [
        "Values from the biggest clusters"
      ],
      "metadata": {
        "id": "Yk3wW0ZM7czD"
      }
    },
    {
      "cell_type": "code",
      "source": [
        "a = winners[2,1]\n",
        "b = winners[3,1]\n",
        "c = winners[2,2]\n",
        "unique, counts = np.unique(a, return_counts=True)\n",
        "print (dict(zip(unique, counts)))\n",
        "unique, counts = np.unique(b, return_counts=True)\n",
        "print(dict(zip(unique, counts)))\n",
        "unique, counts = np.unique(c, return_counts=True)\n",
        "print(dict(zip(unique, counts)))"
      ],
      "metadata": {
        "colab": {
          "base_uri": "https://localhost:8080/"
        },
        "id": "h0HlKyxfZ1DB",
        "outputId": "5ba86dc7-ac42-4f3d-de54-f98b24413aa1"
      },
      "execution_count": null,
      "outputs": [
        {
          "output_type": "stream",
          "name": "stdout",
          "text": [
            "{0.0: 19, 1.0: 1, 2.0: 3}\n",
            "{0.0: 6, 1.0: 6, 2.0: 3}\n",
            "{0.0: 1, 1.0: 15}\n"
          ]
        }
      ]
    },
    {
      "cell_type": "code",
      "source": [
        "print(SOM[2,1])\n",
        "print(SOM[3,1])\n",
        "print(SOM[2,2])"
      ],
      "metadata": {
        "id": "i0NhbwJpZ0_E",
        "colab": {
          "base_uri": "https://localhost:8080/"
        },
        "outputId": "b2c18b52-ef6b-4682-8318-42898b318f26"
      },
      "execution_count": null,
      "outputs": [
        {
          "output_type": "stream",
          "name": "stdout",
          "text": [
            "[2.77536958e-01 3.17320505e-01 7.89585096e-01 3.01233743e-01\n",
            " 6.02890232e-01 9.46647812e-02 2.88319237e-01 2.81163871e-11\n",
            " 1.51150795e-06]\n",
            "[2.72807778e-01 3.96893728e-01 8.13147862e-01 3.03678732e-01\n",
            " 5.33672746e-01 9.04995801e-02 2.65735184e-01 4.89386648e-06\n",
            " 8.38261981e-09]\n",
            "[2.21646425e-01 3.54971943e-01 7.81469287e-01 3.80227700e-01\n",
            " 6.10288234e-01 9.21994306e-02 2.40341615e-01 1.26226254e-06\n",
            " 1.32816928e-05]\n"
          ]
        }
      ]
    }
  ]
}